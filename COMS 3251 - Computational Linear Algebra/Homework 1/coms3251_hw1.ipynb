{
    "metadata": {
        "kernelspec": {
            "name": "python3",
            "display_name": "Python 3 (ipykernel)",
            "language": "python"
        }
    },
    "nbformat": 4,
    "nbformat_minor": 0,
    "cells": [
        {
            "attachments": {},
            "cell_type": "markdown",
            "metadata": {},
            "source": [
                "# COMS 3251 Spring 2022: Homework 1\n",
                "\n",
                "**Instructions**: Solve all problems and type up your solutions in this notebook. Each solution should appear in a new text or code cell immediately following the given problem. Written problems should include work and steps in addition to the answers; $\\LaTeX$ is highly recommended, but plaintext is also acceptable if it is understandable. Coding solutions should be free of errors, and outputs should be left in the notebook for submission.\n",
                "\n",
                "**Submission**: When you are ready to submit your work, first download your solution file (click the Files tab on the left and right click the .ipynb filename). Then upload the file to the matching assignment bin on Gradescope. Please be mindful of the deadline, as late submissions are not accepted, as well as our course policies on academic honesty."
            ]
        },
        {
            "cell_type": "code",
            "execution_count": 7,
            "metadata": {},
            "outputs": [],
            "source": [
                "# RUN THIS FIRST\n",
                "import numpy as np\n",
                "import matplotlib.pyplot as plt"
            ]
        },
        {
            "attachments": {},
            "cell_type": "markdown",
            "metadata": {},
            "source": [
                "# Problem 1 (15 points)\n",
                "\n",
                "If you have not used Python before this class, please review the first recitation before starting this assignment. This introduced some basic Python syntax and tools, most of which have equivalencies in other languages like Java. For each of these problems, you should utilize the slicing and functional capabilities of NumPy for full credit.\n",
                "\n",
                "1. Create a 8 by 13 *random integer* array $A$ with values between 1 and 20 (hint: look at [numpy.random.randint](https://numpy.org/doc/stable/reference/random/generated/numpy.random.randint.html)). Then use a single slicing command to print each entry of the matrix that has a) an odd row index in the range [3, 8), and b) a column index divisible by 3 in the range [3, 13].\n",
                "\n",
                "2. Swap the first and last columns of $A$ with a single slicing command, and then swap the first and last rows of $A$ with a single slicing command. After performing both operations, print $A$ and also print the diagonal entries of $A$.  \n",
                "\n",
                "3. Insert a row of all zeroes as the fifth (index 4) row of $A$. Delete the second to last column from $A$. Finally, print out the transpose of the resultant $A$ array.\n",
                "\n",
                ""
            ]
        },
        {
            "cell_type": "code",
            "execution_count": 30,
            "metadata": {},
            "outputs": [
                {
                    "name": "stdout",
                    "output_type": "stream",
                    "text": "[[15  2  2  9  1  2 16 18  5 18  8 16  4]\n [ 4 10 19  9 16 11  7 13 14  6 10 18  4]\n [15  7  1  3  5  3  8 11 14 17  3  4  1]\n [ 8 10  5 15  7 15  9  8  1 13 14  4 12]\n [10  7  7  1 18 19  2 13  2  5  6 11  8]\n [12  3 10 13 15 10  1 13 13 10  4  5  3]\n [13 17 14 12  6 17  9  5 16  3  4 17 11]\n [12 12  6  8  5 16  6 11 13  5  6 15 14]]\n[[ 8 10  5 15  7 15  9  8  1 13 14  4 12]\n [12  3 10 13 15 10  1 13 13 10  4  5  3]\n [12 12  6  8  5 16  6 11 13  5  6 15 14]]\n\n[[ 9 16 18  4]\n [ 9  7  6  4]\n [ 3  8 17  1]\n [15  9 13 12]\n [ 1  2  5  8]\n [13  1 10  3]\n [12  9  3 11]\n [ 8  6  5 14]]\n"
                }
            ],
            "source": [
                "# CODE FOR 1.1\n",
                "my_matrix = np.random.randint(low=1, high=20, size=(8, 13))\n",
                "\n",
                "print(my_matrix)\n",
                "\n",
                "print(my_matrix[3:8:2,:])\n",
                "print()\n",
                "print(my_matrix[:,3:14:3])"
            ]
        },
        {
            "cell_type": "code",
            "execution_count": 35,
            "metadata": {},
            "outputs": [
                {
                    "name": "stdout",
                    "output_type": "stream",
                    "text": "[[12 12  6  8  5 16  6 11 13  5  6 15 14]\n [ 4 10 19  9 16 11  7 13 14  6 10 18  4]\n [15  7  1  3  5  3  8 11 14 17  3  4  1]\n [ 8 10  5 15  7 15  9  8  1 13 14  4 12]\n [10  7  7  1 18 19  2 13  2  5  6 11  8]\n [12  3 10 13 15 10  1 13 13 10  4  5  3]\n [13 17 14 12  6 17  9  5 16  3  4 17 11]\n [15  2  2  9  1  2 16 18  5 18  8 16  4]]\n\n[[14 12  6  8  5 16  6 11 13  5  6 15 12]\n [ 4 10 19  9 16 11  7 13 14  6 10 18  4]\n [ 1  7  1  3  5  3  8 11 14 17  3  4 15]\n [12 10  5 15  7 15  9  8  1 13 14  4  8]\n [ 8  7  7  1 18 19  2 13  2  5  6 11 10]\n [ 3  3 10 13 15 10  1 13 13 10  4  5 12]\n [11 17 14 12  6 17  9  5 16  3  4 17 13]\n [ 4  2  2  9  1  2 16 18  5 18  8 16 15]]\n\n[[ 4  2  2  9  1  2 16 18  5 18  8 16 15]\n [ 4 10 19  9 16 11  7 13 14  6 10 18  4]\n [ 1  7  1  3  5  3  8 11 14 17  3  4 15]\n [12 10  5 15  7 15  9  8  1 13 14  4  8]\n [ 8  7  7  1 18 19  2 13  2  5  6 11 10]\n [ 3  3 10 13 15 10  1 13 13 10  4  5 12]\n [11 17 14 12  6 17  9  5 16  3  4 17 13]\n [14 12  6  8  5 16  6 11 13  5  6 15 12]]\n\n[ 4 10  1 15 18 10  9 11]\n"
                }
            ],
            "source": [
                "# CODE FOR 1.2\n",
                "print(my_matrix) # Initial state\n",
                "my_matrix[:, [12, 0]] = my_matrix[:, [0, 12]] # swapping first \u0026 last columns\n",
                "\n",
                "print()\n",
                "print(my_matrix) # after first swap\n",
                "\n",
                "my_matrix[[7, 0]] = my_matrix[[0, 7]] # swapping first \u0026 last rows\n",
                "\n",
                "print()\n",
                "print(my_matrix) # after second swap\n",
                "\n",
                "print()\n",
                "print(np.diag(my_matrix)) # diagonal of the matrix"
            ]
        },
        {
            "cell_type": "code",
            "execution_count": 44,
            "metadata": {},
            "outputs": [
                {
                    "name": "stdout",
                    "output_type": "stream",
                    "text": "[[ 4  2  2  9  1  2 16 18  5 18  8 16 15]\n [ 4 10 19  9 16 11  7 13 14  6 10 18  4]\n [ 1  7  1  3  5  3  8 11 14 17  3  4 15]\n [12 10  5 15  7 15  9  8  1 13 14  4  8]\n [ 0  0  0  0  0  0  0  0  0  0  0  0  0]\n [ 8  7  7  1 18 19  2 13  2  5  6 11 10]\n [ 3  3 10 13 15 10  1 13 13 10  4  5 12]\n [11 17 14 12  6 17  9  5 16  3  4 17 13]\n [14 12  6  8  5 16  6 11 13  5  6 15 12]]\n\n[[ 4  2  2  9  1  2 16 18  5 18  8 15]\n [ 4 10 19  9 16 11  7 13 14  6 10  4]\n [ 1  7  1  3  5  3  8 11 14 17  3 15]\n [12 10  5 15  7 15  9  8  1 13 14  8]\n [ 0  0  0  0  0  0  0  0  0  0  0  0]\n [ 8  7  7  1 18 19  2 13  2  5  6 10]\n [ 3  3 10 13 15 10  1 13 13 10  4 12]\n [11 17 14 12  6 17  9  5 16  3  4 13]\n [14 12  6  8  5 16  6 11 13  5  6 12]]\n\n[[ 4  4  1 12  0  8  3 11 14]\n [ 2 10  7 10  0  7  3 17 12]\n [ 2 19  1  5  0  7 10 14  6]\n [ 9  9  3 15  0  1 13 12  8]\n [ 1 16  5  7  0 18 15  6  5]\n [ 2 11  3 15  0 19 10 17 16]\n [16  7  8  9  0  2  1  9  6]\n [18 13 11  8  0 13 13  5 11]\n [ 5 14 14  1  0  2 13 16 13]\n [18  6 17 13  0  5 10  3  5]\n [ 8 10  3 14  0  6  4  4  6]\n [15  4 15  8  0 10 12 13 12]]\n"
                }
            ],
            "source": [
                "# CODE FOR 1.3\n",
                "zeroes_array = [0 for i in range(13)]\n",
                "\n",
                "# np.insert(my_matrix, 4, zeroes_array, axis=0) # inserting the zero row\n",
                "print(np.insert(my_matrix, 4, zeroes_array, axis=0))\n",
                "\n",
                "print()\n",
                "print(np.delete(np.insert(my_matrix, 4, zeroes_array, axis=0), 11, axis=1)) # deleting the second to last column\n",
                "\n",
                "print()\n",
                "print(np.transpose(np.delete(np.insert(my_matrix, 4, zeroes_array, axis=0), 11, axis=1)))"
            ]
        },
        {
            "attachments": {},
            "cell_type": "markdown",
            "metadata": {},
            "source": [
                "# Problem 2 (15 points)\n",
                "\n",
                "`Matplotlib` is another frequently used library in scientific computing, and in particular the `matplotlib.pyplot` interface is so useful that it is common to just import `pyplot` alone (which we did above as `plt`). Complete the tasks below; you may reference the [documentation](https://matplotlib.org/stable/tutorials/introductory/pyplot.html#sphx-glr-tutorials-introductory-pyplot-py) for similar examples.\n",
                "\n",
                "1. Plot the values of the function $\\cos^2 x$ in the domain $[-5,5]$. The plot should be a solid line in blue. A grid should be included in the background, and the horizontal and vertical axes labeled `x` and `y`, respectively.\n",
                "\n",
                "2. Plot the values of the function $e^x$ and $\\ln(x)$ on the same plot in the domain $(0,3]$ (you choose the starting point). The first function should be shown with green dashes and the second with red dots (the exact interval does not matter as long as we can clearly see the individual dashes/dots). Set the limits of the `x` axis to $-5$ and $5$ and the `y` axis to $-10$ and $15$.\n",
                "\n",
                "3. Generate a scatterplot in which `x` is a random 10-vector with real values between $-1$ and $1$ and `y` is a random 10-vector with integer values between $0$ and $10$. As in problem 1, use inbuilt NumPy functions to generate the random values."
            ]
        },
        {
            "cell_type": "code",
            "execution_count": 8,
            "metadata": {},
            "outputs": [
                {
                    "data": {
                        "image/png": "[encoded data removed]",
                        "text/plain": "\u003cFigure size 432x288 with 1 Axes\u003e"
                    },
                    "metadata": {
                        "needs_background": "light"
                    },
                    "output_type": "display_data"
                }
            ],
            "source": [
                "# CODE FOR 2.1\n",
                "import matplotlib.pyplot as plt\n",
                "%matplotlib inline\n",
                "\n",
                "STEP = 10 ** (-3)\n",
                "\n",
                "x = np.arange(-5, 5, STEP)\n",
                "y = (np.cos(x)**2)\n",
                "\n",
                "plt.plot(x, y)\n",
                "\n",
                "plt.xlabel('x axis')\n",
                "plt.ylabel('y axis')\n",
                "plt.title('Plot of cos^2(x) from -5 to 5')\n",
                "plt.legend(['cos^2(x)'])\n",
                "plt.grid()\n",
                "\n",
                "plt.show()"
            ]
        },
        {
            "cell_type": "code",
            "execution_count": 18,
            "metadata": {},
            "outputs": [
                {
                    "data": {
                        "image/png": "[encoded data removed]",
                        "text/plain": "\u003cFigure size 432x288 with 1 Axes\u003e"
                    },
                    "metadata": {
                        "needs_background": "light"
                    },
                    "output_type": "display_data"
                }
            ],
            "source": [
                "# CODE FOR 2.2\n",
                "\n",
                "x = np.arange(10**(-3), 3, STEP)\n",
                "y = (np.exp(x))\n",
                "z = (np.log(x))\n",
                "\n",
                "plt.plot(y, linestyle='dashed', color='green')\n",
                "plt.plot(z, linestyle='dotted', color='red')\n",
                "\n",
                "plt.xlabel('x axis')\n",
                "plt.ylabel('Comparison between e^(x) and ln(x) values')\n",
                "plt.title('Plot of e^x vs ln(x) from 0 to 3')\n",
                "plt.legend(['e^x', 'ln(x)'])\n",
                "plt.grid()\n",
                "\n",
                "plt.show()"
            ]
        },
        {
            "cell_type": "code",
            "execution_count": 23,
            "metadata": {},
            "outputs": [
                {
                    "data": {
                        "image/png": "[encoded data removed]",
                        "text/plain": "\u003cFigure size 432x288 with 1 Axes\u003e"
                    },
                    "metadata": {
                        "needs_background": "light"
                    },
                    "output_type": "display_data"
                }
            ],
            "source": [
                "# CODE FOR 2.3\n",
                "import math\n",
                "import random\n",
                "import matplotlib.pyplot as plt\n",
                "# create random data\n",
                "ten_vector = 10\n",
                "x = [random.uniform(0, 1) for i in range(ten_vector)]\n",
                "y = [random.randint(0, 10) for i in range(ten_vector)]\n",
                "# draw the plot\n",
                "\n",
                "plt.scatter(x, y, color = 'red')\n",
                "plt.xlabel(\"X\")\n",
                "plt.ylabel(\"Y\")\n",
                "plt.show()"
            ]
        },
        {
            "attachments": {},
            "cell_type": "markdown",
            "metadata": {},
            "source": [
                "# Problem 3 (20 points)\n",
                "\n",
                "Suppose we have two $n$-vectors $\\mathbf v$ and $\\mathbf w$. The outer product between them is a $n \\times n$ matrix $A = \\mathbf v \\mathbf w^\\top$.\n",
                "\n",
                "1. The Hadamard (elementwise) product $\\mathbf v * \\mathbf w$ can be found in $A$ without doing any further multiplications. Explain how to extract $\\mathbf v * \\mathbf w$ from $A$. How can we perform this operation using a single NumPy function on $A$?\n",
                "\n",
                "2. Following the above, explain how to obtain the dot product $\\mathbf v \\cdot \\mathbf w$ from the outer product $A$.\n",
                "\n",
                "3. A symmetric matrix satisfies $A^\\top = A$. What conditions on $\\mathbf v$ and $\\mathbf w$ ensure that the outer product $A$ is symmetric?\n",
                "\n",
                "4. A skew-symmetric matrix satisfies $A^\\top = -A$. What conditions on $\\mathbf v$ and $\\mathbf w$ ensure that the outer product $A$ is skew-symmetric?\n",
                ""
            ]
        },
        {
            "attachments": {},
            "cell_type": "markdown",
            "metadata": {},
            "source": [
                "YOUR SOLUTIONS HERE \n",
                "\n",
                "1. The Hadamard product can be found by examining the diagonal of A. The single NumPy function to get it would be **numpy.diagonal**. This would always retrieve the right product since the resulting matrix would be **n**x**n** i.e. a square one.\n",
                "\n",
                "2. Following the above, we can easily obtain $\\mathbf v \\cdot \\mathbf w$ from the outer product $A$ by simply adding every element of the Hadamard product numpy array. This can be done will the help of the function **numpy.sum** =\u003e The final answer, given 3.1 would be: **numpy.sum(numpy.diagonal($A$))**\n",
                "\n",
                "3. In this case, we're presented with a symmetric matrix. Since we know that A is square matrix, this is actually posible. To ensure that A is symmetric, we need to have every pair $$(x, y)\\subset \\mathbb{R}^n$$ of n-sized vectors to be a solution of the following expression: $$ (A\\mathbf x) \\cdot \\mathbf y = \\mathbf x \\cdot (A\\mathbf y)$$\n",
                "This is true, because: $$ (A\\mathbf x) \\cdot \\mathbf y = \\mathbf x^T A^T \\mathbf y = \\mathbf x^T A \\mathbf y = \\mathbf x \\cdot (A\\mathbf y)$$\n",
                "Now, if we let $$ \\lambda \\ and  \\  \\mu $$ be the corresponding eigenvalues of the eigenvectors $$ \\mathbf x \\ and \\ \\mathbf y, $$ then: \n",
                "$$ \\lambda \\mathbf x \\cdot \\mathbf y = (A\\mathbf x) \\cdot \\mathbf y = \\mathbf x \\cdot (A\\mathbf y) = \\mathbf x \\cdot (\\mu \\mathbf y) = \\mu \\mathbf x \\cdot \\mathbf y$$ =\u003e $$ (\\lambda - \\mu)(\\mathbf x \\cdot \\mathbf y) = 0 $$ However, we know that $$ \\lambda \\neq \\mu,$$ we can conclude that $$\\mathbf x \\cdot \\mathbf y = 0$$ =\u003e The vectors have to either: $$ \\begin{equation}\n",
                "    \\begin{cases}\n",
                "      I: be \\ the \\ same \\ vector \\\\\\\\\\\n",
                "      II: \\mathbf x \\cdot ( -\\mathbf y) = 0 \\\\\\\\\n",
                "      III: have \\ a \\ zero \\ dot \\ product \\\\\\\\\n",
                "  \n",
                "    \\end{cases}       \n",
                "\\end{equation} $$ \n",
                "\n",
                "4. From the above analysis we can conclude that a skew matrix can be formed if we have the condition:\n",
                "$$\\lambda = - \\lambda$$ or if we have $$ \\mathbf x = 0 \\ or \\ \\mathbf y = 0 $$ Thus, we need to have $$ \\lambda = 0 $$ (This directly follows from 3.3 after we substitute A with -A)\n",
                "Note: for a skew matrix, we can also get some insight after analyzing: $$ A + A^T = B, $$ where B is an **n** x **n** zero matrix."
            ]
        },
        {
            "attachments": {},
            "cell_type": "markdown",
            "metadata": {},
            "source": [
                "# Problem 4 (20 points)\n",
                "\n",
                "We can think of matrix multiplication in terms of matrix-vector multiplication. In turn, we can think of matrix-vector multiplication in terms of column operations, specifically as a linear combination of the matrix's columns. Consider a product of a $1 \\times m$ *row vector* $\\mathbf x$ with a $m \\times n$ matrix $A$. In other words, we are looking at the equation \n",
                "\n",
                "$$\\mathbf y = \\mathbf x A.$$\n",
                "\n",
                "1. Explain how each element of $\\mathbf y$ can be computed as a dot product of two vectors from $\\mathbf x$ and $A$.\n",
                "\n",
                "2. Explain how each \"column\" of $\\mathbf y$ can be computed as a linear combination of the \"columns\" of $\\mathbf x$.\n",
                "\n",
                "3. Explain how the entire row vector $\\mathbf y$ can be computed as a linear combination of row vectors from $A$ and/or $\\mathbf x$.\n",
                "\n",
                "4. What is the above operation equivalent to if $A$ is $m \\times 1$? What is the above operation equivalent to if $m=1$ and $n \u003e 1$? What is the dimension of $\\mathbf y$ in each case?"
            ]
        },
        {
            "attachments": {},
            "cell_type": "markdown",
            "metadata": {},
            "source": [
                "YOUR SOLUTIONS HERE \n",
                "\n",
                "1. Each element of y can be computed as a dot product from $$\\mathbf x \\ and \\ A$$ by multiplying each row of a with the vector $$\\mathbf x$$ After that we get all the values and form a new row vector and that's our result.\n",
                "\n",
                "2. Every column is basically the elements of $$ \\mathbf x, $$ multiplied by the elements from a column from A respectively and summed. In such sense, this resembles a linear combination. \n",
                "\n",
                "3. Just by calculating each and every one of the sums in 4.2 and ordering them in a 1-row 1-D vector.\n",
                "\n",
                "4. If A had dimensions of 1xm, then y would be a scalar value, or 1-D vector. The dimensions of y in the case where n \u003e 1, would be 1xn\n",
                ""
            ]
        },
        {
            "attachments": {},
            "cell_type": "markdown",
            "metadata": {},
            "source": [
                "# Problem 5 (15 points)\n",
                "\n",
                "We are interested in solving for the energy consumption rates of four hardware components: radio, accelerometer, memory, CPU. We cannot directly measure each individual consumption rate, but we can run experiments from which we can measure the total energy consumption. We run three experiments, where in each one we turn on all four components for some time duration. The time durations for each component are as follows:\n",
                "\n",
                "* Radio: {1s, 2s, 3s}\n",
                "* Accelerometer: {0s, 2s, 4s}\n",
                "* Memory: {3s, 2s, 1s}\n",
                "* CPU: {4s, 2s, 0s}\n",
                "\n",
                "The total energy consumption for the three experiments were 0.5J, 1J, and 2J.\n",
                "\n",
                "1. Using all of the information above, write down a set of linear equations that, if solved, can give us a valid set of component energy consumption rates. Then write the linear system as a matrix-vector equation.\n",
                "\n",
                "2. What do the rows of the coefficient matrix represent in the context of this problem? What do the columns of the coefficient matrix represent? What aspects of the problem do the *number* of equations and *number* of unknowns correspond to? \n",
                "\n",
                "3. Suppose that you attempt to solve this system but find that no solutions exist. Briefly explain what that implies about our equations and how they relate to each other. What does this tell us about our experiment measurements?"
            ]
        },
        {
            "attachments": {},
            "cell_type": "markdown",
            "metadata": {},
            "source": [
                "ENTER WRITTEN RESPONSES HERE\n",
                "\n",
                "1. Let's define the following:\n",
                "    1. Energy consumption by radio -\u003e R\n",
                "    2. Energy consumption by acceleromenter -\u003e A\n",
                "    3. Energy consumption by memory -\u003e M\n",
                "    4. Energy consumption by CPU -\u003e C\n",
                "\n",
                "Now, the set of linear equations would be, as follows: \n",
                "\n",
                "$$ \\begin{equation}\n",
                "    \\begin{cases}\n",
                "      R + 3M + 4C = \\ \\ \\ \\ \\ \\ \\ \\ \\ 0.5 \\\\\n",
                "      2R + 2A + 2M + 2C = 1 \\\\ \n",
                "      3R + 4A + M = \\ \\ \\ \\ \\ \\ \\ \\ \\ \\ \\ \\  2\n",
                "    \\end{cases}       \n",
                "\\end{equation} $$ \n",
                "\n",
                "Now we can continue to build our matrix-vector equation, as follows: \n",
                "$$\\begin{bmatrix} 1 \u0026 0 \u0026 3 \u0026 4 \\\\ 2 \u0026 2 \u0026 2 \u0026 2\\\\ 3 \u0026 4 \u0026 1 \u0026 0 \\end{bmatrix} \\begin{bmatrix} R \\\\ A \\\\ M \\\\ C \\end{bmatrix} = \\begin{bmatrix} 0.5 \\\\ 1 \\\\ 2 \\end{bmatrix}$$\n",
                "\n",
                "2. The rows of the coef. matrix represent how much each of R, A, M, and C have been turned on for an experiment. The columns represent how much each component was running for all the experiments. However, since we have 3 equations and 4 unknowns, we cannot get an exact value for the quadruple (R, A, M, C). This means that we need at least another experiment (different from the previous 3) to determine the exact consumption of R, A, M, and C.\n",
                "\n",
                "3. If no solution exists, this would imply that it is impossible that each equation correctly describes the experiment ran. It's at least 1 equation that has to be incorrect (however, 2 and 3 is also possible). This means that we'd expect that at a certain point either one or more of R, A, M, C broke and did not give the correct information. Another possibility is that one or more of them has been turned off for the experiment due to an outside factor. However, given the fact that the highest energy is 2 Joules, which is relatively low, we can make a \"smart guess\" that a malfunction was the more likely situation. Now, in mathematical terms, not having a solution would mean that if we calculate the set of all linear combinations of column vectors from coef. matrix, we won't have the vector (1/2, 1, 2) inside the set."
            ]
        },
        {
            "attachments": {},
            "cell_type": "markdown",
            "metadata": {},
            "source": [
                "# Problem 6 (15 points)\n",
                "\n",
                "We know that *back substitution* is a method for obtaining the solution of an upper triangular system. As an example, take a look at the following system of linear equations, along with the corresponding coefficient matrix (our unknowns start from $x_0$ here):\n",
                "\n",
                "$$\\begin{align*}\n",
                "2x_0 + 4x_1 - 2x_2 \u0026= 2 \\\\\n",
                "x_1 + x_2 \u0026= 4 \\\\\n",
                "4x_2 \u0026= 8\n",
                "\\end{align*}$$\n",
                "\n",
                "$$A = \\begin{bmatrix} 2 \u0026 4 \u0026 -2 \\\\ 0 \u0026 1 \u0026 1 \\\\ 0 \u0026 0 \u0026 4 \\end{bmatrix}, \\quad \n",
                "\\mathbf b = \\begin{bmatrix} 2 \\\\ 4 \\\\ 8 \\end{bmatrix}$$\n",
                "\n",
                "Think of this as an *iterative* process going through each row starting from the bottom and updating the solution vector $\\mathbf x$, which contains the unknowns that have been solved so far. The key observation is as follows: if $j$ is the first nonzero index of row $i$, we can solve for $x_j$ by computing $(b_i - (a_{i,j+1},\\cdots,a_{in}) \\cdot \\mathbf x) / a_{ij}$. The result $x_j$ is then appended to the front of the growing $\\mathbf x$ vector.\n",
                "\n",
                "There is one slight catch: we may have fewer equations than unknowns. For example, if the second equation is missing from the above system, then both $A$ and $\\mathbf b$ would have two rows each. The above procedure still helps us to solve for $x_2$ and $x_0$. The remaining variable $x_1$ is free, and for simplicity we can assign it to be $0$.\n",
                "\n",
                "Use these ideas to implement the `back_subs` method below. Given a square matrix `A` in upper triangular form and the RHS vector `b`, compute and return a NumPy vector containing a solution to the corresponding linear system. You may assume that all diagonal elements of `A` are nonzero. As a hint, it would be simplest to initialize `x` as a zero vector and then update each element as you solve for them. [`numpy.nonzero`](https://numpy.org/doc/stable/reference/generated/numpy.nonzero.html) may be a useful function for finding the first nonzero element in a given row.\n",
                ""
            ]
        },
        {
            "cell_type": "code",
            "execution_count": 3,
            "metadata": {},
            "outputs": [],
            "source": [
                "def back_subs(A, b):\n",
                "  # YOUR CODE HERE\n",
                "\n",
                "  (m, n) = A.shape\n",
                "\n",
                "  column_zeros = np.zeros(n)\n",
                "\n",
                "  for row in range(m - 1, -1, -1):\n",
                "    \n",
                "    non_zeros = np.nonzero(A[row])[0]\n",
                "\n",
                "    if not non_zeros.size == 0: # if the row has only zero vals, we don't have anything to do\n",
                "      col = non_zeros[0]\n",
                "      current_item = A[row][col]\n",
                "\n",
                "      difference = b[row] - np.dot(column_zeros, A[row])\n",
                "      column_zeros[col] = difference / current_item\n",
                "    \n",
                "  return column_zeros\n",
                ""
            ]
        },
        {
            "cell_type": "code",
            "execution_count": 4,
            "metadata": {},
            "outputs": [
                {
                    "name": "stdout",
                    "output_type": "stream",
                    "text": "[-1.  2.  2.]\n[3. 0. 2.]\n"
                }
            ],
            "source": [
                "# RUN TO TEST YOUR IMPLEMENTATION\n",
                "A = np.array([[2,4,-2], [0,1,1], [0,0,4]])\n",
                "b = np.array([2,4,8])\n",
                "print(back_subs(A,b))\n",
                "\n",
                "B = np.array([[2,4,-2], [0,0,4]])\n",
                "c = np.array([2,8])\n",
                "print(back_subs(B,c))"
            ]
        }
    ]
}
