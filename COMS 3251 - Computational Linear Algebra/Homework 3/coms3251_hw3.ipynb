{
    "metadata": {
        "kernelspec": {
            "name": "python3",
            "display_name": "Python 3 (ipykernel)",
            "language": "python"
        }
    },
    "nbformat": 4,
    "nbformat_minor": 0,
    "cells": [
        {
            "attachments": {},
            "cell_type": "markdown",
            "metadata": {},
            "source": [
                "# COMS 3251 Spring 2022: Homework 3\n",
                "\n",
                "**Instructions**: Solve all problems and type up your solutions in this notebook. Each solution should appear in a new text or code cell immediately following the given problem. Written problems should include work and steps in addition to the answers; $\\LaTeX$ is highly recommended, but plaintext is also acceptable if it is understandable. You may use Python for any problem unless otherwise stated. Coding solutions should be free of errors, and all outputs should be left in the notebook for submission.\n",
                "\n",
                "**Submission**: Submit a PDF printout of this notebook to Gradescope (not the .ipynb file). One way to do so is to download and then open the file in Google Colab (accessible from your LionMail account). Inspect to make sure that all cells are expanded and outputs are present, and then \"print as PDF\". Then upload the file to Gradescope. Please be sure to tag your pages.\n",
                "\n",
                "All submitted work must be your own. Cases of academic dishonesty will be addressed following the policies outlined on the course syllabus."
            ]
        },
        {
            "attachments": {},
            "cell_type": "markdown",
            "metadata": {},
            "source": [
                "# Problem 1 (30 points)\n",
                "\n",
                "Suppose we have an $m \\times n$ matrix $A$, where $m\u003en$ and $A$ is not a zero matrix. Fill in the table below with the rank and nullities of $A$ and $A^\\top$, given the description of $A$. **Provide exact values when possible, or tight upper and lower bounds if exact values cannot be determined.** The first row is filled in for you. Please do not modify the table format.\n",
                "\n",
                ""
            ]
        },
        {
            "attachments": {},
            "cell_type": "markdown",
            "metadata": {},
            "source": [
                "| Description of $A$ | $R = \\text{rank}(A) = \\text{rank}(A^\\top)$ | $N = \\text{nullity}(A)$ | $N'= \\text{nullity} (A^\\top)$ |\n",
                "| ------ | ------ | ------ | ------ |\n",
                "| No other information given about $A$ | $1 \\leq R \\leq n$ | $0 \\leq N \\leq n-1$ | $m-n \\leq N' \\leq m-1$ |\n",
                "| Maximum number of columns linearly independent |  |  |  |\n",
                "| Exactly $k$ columns linearly independent, $k\u003cn$ |  |  |  |\n",
                "| At least $k$ columns linearly independent, $k\u003cn$ |  |  |  |\n",
                "| $C(A)$ can be spanned by $k$ vectors, $k\u003cn$ |  |  |  |\n",
                "| $A \\mathbf x = \\mathbf 0$ has multiple solutions |  |  |  |"
            ]
        },
        {
            "attachments": {},
            "cell_type": "markdown",
            "metadata": {},
            "source": [
                "# Problem 2 (20 points)\n",
                "\n",
                "We are given the following REF matrix:\n",
                "\n",
                "$$ A = \\begin{bmatrix} \n",
                "2 \u0026 -3 \u0026 6 \u0026 2 \u0026 5 \\\\ 0 \u0026 0 \u0026 3 \u0026 -1 \u0026 1 \\\\ 0 \u0026 0 \u0026 0 \u0026 1 \u0026 3 \\\\ 0 \u0026 0 \u0026 0 \u0026 0 \u0026 0\n",
                "\\end{bmatrix} $$\n",
                "\n",
                "1. From inspection of $A$, give the following information: rank($A$), rank($A^\\top$), nullity($A$), nullity($A^\\top$), number of linearly independent columns, number of linearly independent rows, dimension of $C(A)$, dimension of $C(A^\\top)$, number of solutions to $A \\mathbf x = \\mathbf 0$, number of solutions to $A \\mathbf x = \\mathbf b \\neq \\mathbf 0$ (answer to the last two may also be \"it depends\").\n",
                "\n",
                "2. Find a basis for $N(A)$, such that each basis vector has value 1 for one free variable and value 0 for the rest.\n",
                "\n",
                "3. Find a basis for $C(A)$ as well as a basis for $C(A^\\top)$. Is either space equal to a coordinate vector space?\n",
                "\n",
                "4. Is it possible for a given nonzero vector to belong to more than one of the four fundamental subspaces of $A$? If yes, give an example; if no, explain why not."
            ]
        },
        {
            "attachments": {},
            "cell_type": "markdown",
            "metadata": {},
            "source": [
                "ENTER YOUR SOLUTIONS HERE \n",
                "\n",
                "1. To answer the questions, firstly we need to compute $A^\\top$, $C(A)$, and $C(A^\\top)$. More\n",
                "\n",
                "* rank($A$) = 3\n",
                "* rank($A^\\top$) = 3\n",
                "* nullity($A$) = \n",
                "* nullity($A^\\top$) = \n",
                "* number of linearly independent columns = \n",
                "* number of linearly independent rows = \n",
                "* dimension of $C(A)$ = \n",
                "* dimension of $C(A^\\top)$ = \n",
                "* number of solutions to $A \\mathbf x = \\mathbf 0$ : \n",
                "* number of solutions to $A \\mathbf x = \\mathbf b \\neq \\mathbf 0$ : \n",
                "\n",
                "\n",
                "2. \n",
                "\n",
                "3. \n",
                "\n",
                "4. \n",
                ""
            ]
        },
        {
            "cell_type": "code",
            "execution_count": 0,
            "metadata": {},
            "outputs": [],
            "source": [
                "# ENTER ANY CODE HERE\n",
                ""
            ]
        },
        {
            "attachments": {},
            "cell_type": "markdown",
            "metadata": {},
            "source": [
                "# Problem 3 (15 points)\n",
                "\n",
                "We are given the following matrix:\n",
                "\n",
                "$$ A = \\begin{bmatrix} \n",
                "0 \u0026 1 \u0026 1 \\\\ 1 \u0026 0 \u0026 1 \\\\ 1 \u0026 1 \u0026 0 \\\\ -1 \u0026 1 \u0026 1\n",
                "\\end{bmatrix} $$\n",
                "\n",
                "If you use Python to compute any of the requested quantities in this problem, you can just leave them in the output, **but clearly label the subpart and variable to which each quantity / array corresponds**.\n",
                "\n",
                "1. Compute the projection matrix $P$ that projects vectors onto $C(A)$. What are the ranks and nullities of $A$ and $P$?\n",
                "\n",
                "2. Suppose we have the vector $\\mathbf b = (1,1,1,1)$. Compute the projection $\\mathbf p$ and error $\\mathbf e = \\mathbf b - \\mathbf p$. To which fundamental subspaces of $A$ do $\\mathbf p$ and $\\mathbf e$ belong?\n",
                "\n",
                "3. Suppose we want to solve the system $A \\mathbf x = \\mathbf b$. Write out the normal equations (show the matrix and vector on either side) whose solution is the least squares approximation to this system $\\mathbf{\\hat x}$, and then solve for $\\mathbf{\\hat x}$. Show that $\\mathbf p = A \\mathbf{\\hat x}$.\n",
                ""
            ]
        },
        {
            "attachments": {},
            "cell_type": "markdown",
            "metadata": {},
            "source": [
                "ENTER YOUR SOLUTIONS HERE \n",
                "\n",
                "1. \n",
                "\n",
                "2. \n",
                "\n",
                "3. \n",
                " "
            ]
        },
        {
            "cell_type": "code",
            "execution_count": 9,
            "metadata": {},
            "outputs": [],
            "source": [
                "# ENTER ANY CODE HERE\n",
                ""
            ]
        },
        {
            "attachments": {},
            "cell_type": "markdown",
            "metadata": {},
            "source": [
                "# Problem 4 (15 points)\n",
                "\n",
                "Let's take another look at the matrix $A$ from Problem 3. Remember that an *orthogonal* matrix is typically easier to work with in projection and least-squares problems.\n",
                "\n",
                "1. Write out the steps of the Gram-Schmidt process to orthogonalize $A$ and form the orthogonal matrix $Q$. You should check your results using Python.\n",
                "\n",
                "2.  Use $Q$ to compute the projection matrix $P$ such that it is the same projection matrix computed in the previous problem. Your calculation should not involve any matrix inverses. Which fundamental subspace of $Q$ is $C(P)$ equal to? Which fundamental subspace of $Q$ is $N(P)$ equal to?\n",
                "\n",
                "3. Suppose we are given another vector $\\mathbf c = (0,-1,-1,1)$. Determine whether $\\mathbf c$ is in $C(Q)$. If yes, solve the system $Q \\mathbf x = \\mathbf c$; otherwise, find the least squares solution to this system. Do not use Gaussian elimination or any matrix inverses."
            ]
        },
        {
            "attachments": {},
            "cell_type": "markdown",
            "metadata": {},
            "source": [
                "ENTER YOUR SOLUTIONS HERE \n",
                "\n",
                "1. From 3 we have: $$ A = \\begin{bmatrix} \n",
                "0 \u0026 1 \u0026 1 \\\\ 1 \u0026 0 \u0026 1 \\\\ 1 \u0026 1 \u0026 0 \\\\ -1 \u0026 1 \u0026 1\n",
                "\\end{bmatrix} $$ Let's label the 3 column vectors $\\mathbf a$, $\\mathbf b$, and $\\mathbf c$. We need to find the orthonormal vectors $\\mathbf q_1$, $\\mathbf q_2$, and $\\mathbf q_3$.\n",
                "We will start with $\\mathbf q_1$: $$\\mathbf q_1 = \\frac{\\mathbf a}{|\\mathbf a|} = \\frac{1}{|\\mathbf a|}\\mathbf a = \\frac{1}{\\sqrt{(0)^2 + (1)^2 + (1)^2 + (-1)^2}}\\mathbf a = \\frac{1}{\\sqrt{3}}\\mathbf a = \\begin{bmatrix} 0 \\\\ \\frac{\\sqrt{3}}{3} \\\\ \\frac{\\sqrt{3}}{3} \\\\ -\\frac{\\sqrt{3}}{3} \\end{bmatrix}$$\n",
                "\n",
                "Next we continue with $\\mathbf q_2$: $$\\mathbf b - (\\mathbf b \\cdot \\mathbf q_1) \\mathbf q_1 = \\begin{bmatrix} 1 \\\\ 0 \\\\ 1 \\\\ 1 \\end{bmatrix} - \\Bigg(\\begin{bmatrix} 1 \\\\ 0 \\\\ 1 \\\\ 1 \\end{bmatrix} \\cdot \\begin{bmatrix} 0 \\\\ \\frac{\\sqrt{3}}{3} \\\\ \\frac{\\sqrt{3}}{3} \\\\ -\\frac{\\sqrt{3}}{3} \\end{bmatrix}\\Bigg)\\begin{bmatrix} 0 \\\\ \\frac{\\sqrt{3}}{3} \\\\ \\frac{\\sqrt{3}}{3} \\\\ -\\frac{\\sqrt{3}}{3} \\end{bmatrix} = \\begin{bmatrix} 1 \\\\ 0 \\\\ 1 \\\\ 1 \\end{bmatrix} - (0)\\begin{bmatrix} 0 \\\\ \\frac{\\sqrt{3}}{3} \\\\ \\frac{\\sqrt{3}}{3} \\\\ -\\frac{\\sqrt{3}}{3} \\end{bmatrix}  = \\begin{bmatrix} 1 \\\\ 0 \\\\ 1 \\\\ 1 \\end{bmatrix}$$ \n",
                "\n",
                "Now, to obtain $\\mathbf q_2$ we need to divide the answer that we got for the above expression by it's modulus in order to get the normalization:\n",
                "$$\\mathbf q_2 = \\frac{\\mathbf b - (\\mathbf b \\cdot \\mathbf q_1) \\mathbf q_1}{|\\mathbf b - (\\mathbf b \\cdot \\mathbf q_1) \\mathbf q_1|} = \\frac{1}{\\sqrt{(1)^2 + (0)^2 + (1)^2 + (1)^2}}\\begin{bmatrix} 1 \\\\ 0 \\\\ 1 \\\\ 1 \\end{bmatrix} = \\frac{1}{\\sqrt{3}}\\begin{bmatrix} 1 \\\\ 0 \\\\ 1 \\\\ 1 \\end{bmatrix} = \\begin{bmatrix} \\frac{\\sqrt{3}}{3} \\\\ 0 \\\\ \\frac{\\sqrt{3}}{3} \\\\ \\frac{\\sqrt{3}}{3} \\end{bmatrix}$$\n",
                "\n",
                "Next, we continue with $\\mathbf q_3$:\n",
                "$$\\mathbf c - (\\mathbf c \\cdot \\mathbf q_1) \\mathbf q_1 - (\\mathbf c \\cdot \\mathbf q_2) \\mathbf q_2 = \\begin{bmatrix} 1 \\\\ 1 \\\\ 0 \\\\ 1 \\end{bmatrix} - \\Bigg(\\begin{bmatrix} 1 \\\\ 1 \\\\ 0 \\\\ 1 \\end{bmatrix} \\cdot \\begin{bmatrix} 0 \\\\ \\frac{\\sqrt{3}}{3} \\\\ \\frac{\\sqrt{3}}{3} \\\\ -\\frac{\\sqrt{3}}{3} \\end{bmatrix}\\Bigg)\\begin{bmatrix} 0 \\\\ \\frac{\\sqrt{3}}{3} \\\\ \\frac{\\sqrt{3}}{3} \\\\ -\\frac{\\sqrt{3}}{3} \\end{bmatrix} - \\Bigg(\\begin{bmatrix} 1 \\\\ 1 \\\\ 0 \\\\ 1 \\end{bmatrix} \\cdot \\begin{bmatrix} \\frac{\\sqrt{3}}{3} \\\\ 0 \\\\ \\frac{\\sqrt{3}}{3} \\\\ \\frac{\\sqrt{3}}{3} \\end{bmatrix}\\Bigg)\\begin{bmatrix} \\frac{\\sqrt{3}}{3} \\\\ 0 \\\\ \\frac{\\sqrt{3}}{3} \\\\ \\frac{\\sqrt{3}}{3} \\end{bmatrix} = \\\\ \n",
                "= \\begin{bmatrix} 1 \\\\ 1 \\\\ 0 \\\\ 1 \\end{bmatrix} - (0)\\begin{bmatrix} 0 \\\\ \\frac{\\sqrt{3}}{3} \\\\ \\frac{\\sqrt{3}}{3} \\\\ -\\frac{\\sqrt{3}}{3} \\end{bmatrix} - (\\frac{2\\sqrt{3}}{3})\\begin{bmatrix} \\frac{\\sqrt{3}}{3} \\\\ 0 \\\\ \\frac{\\sqrt{3}}{3} \\\\ \\frac{\\sqrt{3}}{3} \\end{bmatrix} = \\begin{bmatrix} 1 \\\\ 1 \\\\ 0 \\\\ 1 \\end{bmatrix} - \\begin{bmatrix} 0 \\\\ 0 \\\\ 0 \\\\ 0 \\end{bmatrix} - \\begin{bmatrix} \\frac{2}{3} \\\\ 0 \\\\ \\frac{2}{3} \\\\ \\frac{2}{3} \\end{bmatrix} = \\begin{bmatrix} \\frac{1}{3} \\\\ 1 \\\\ -\\frac{2}{3} \\\\ \\frac{1}{3} \\end{bmatrix}$$\n",
                "\n",
                "Now, to obtain $\\mathbf q_3$ we need to divide the answer that we got for the above expression by it's modulus in order to get the normalization:\n",
                "$$\\mathbf q_3 = \\frac{\\mathbf c - (\\mathbf c \\cdot \\mathbf q_1) \\mathbf q_1 - (\\mathbf c \\cdot \\mathbf q_2) \\mathbf q_2}{|\\mathbf c - (\\mathbf c \\cdot \\mathbf q_1) \\mathbf q_1 - (\\mathbf c \\cdot \\mathbf q_2) \\mathbf q_2|} = \\frac{1}{\\sqrt{(\\frac{1}{3})^2 + (1)^2 + (-\\frac{2}{3})^2 + (\\frac{1}{3})^2}}\\begin{bmatrix} \\frac{1}{3} \\\\ 1 \\\\ -\\frac{2}{3} \\\\ \\frac{1}{3} \\end{bmatrix}\n",
                " = \\frac{1}{\\sqrt{\\frac{5}{3}}}\\begin{bmatrix} \\frac{1}{3} \\\\ 1 \\\\ -\\frac{2}{3} \\\\ \\frac{1}{3} \\end{bmatrix} = \\frac{\\sqrt{3}}{\\sqrt{5}}\\begin{bmatrix} \\frac{1}{3} \\\\ 1 \\\\ -\\frac{2}{3} \\\\ \\frac{1}{3} \\end{bmatrix} = \\begin{bmatrix} \\frac{\\sqrt{15}}{15} \\\\ \\frac{\\sqrt{15}}{5} \\\\ -\\frac{2\\sqrt{15}}{15} \\\\ \\frac{\\sqrt{15}}{15} \\end{bmatrix}$$\n",
                "\n",
                "\n",
                "$\\rightarrow$ Finally, our orthogonal matrix Q is:\n",
                "$$ Q = \\begin{bmatrix} \n",
                "\\mathbf q_1 \u0026 \\mathbf q_2 \u0026 \\mathbf q_3\\end{bmatrix} = \\begin{bmatrix} 0 \u0026 \\frac{\\sqrt{3}}{3} \u0026 \\frac{\\sqrt{15}}{15} \\\\ \\frac{\\sqrt{3}}{3} \u0026 0 \u0026 \\frac{\\sqrt{15}}{5} \\\\ \\frac{\\sqrt{3}}{3} \u0026 \\frac{\\sqrt{3}}{3} \u0026 -\\frac{2\\sqrt{15}}{15} \\\\ -\\frac{\\sqrt{3}}{3} \u0026 \\frac{\\sqrt{3}}{3} \u0026 \\frac{\\sqrt{15}}{15}\\end{bmatrix}$$ \n",
                "\n",
                "2. Now that we have $Q$ from 4.1, we can calculate $P$ by using the formula $P = QQ^\\top$.\n",
                "$$P = \\begin{bmatrix} 0 \u0026 \\frac{\\sqrt{3}}{3} \u0026 \\frac{\\sqrt{15}}{15} \\\\ \\frac{\\sqrt{3}}{3} \u0026 0 \u0026 \\frac{\\sqrt{15}}{5} \\\\ \\frac{\\sqrt{3}}{3} \u0026 \\frac{\\sqrt{3}}{3} \u0026 -\\frac{2\\sqrt{15}}{15} \\\\ -\\frac{\\sqrt{3}}{3} \u0026 \\frac{\\sqrt{3}}{3} \u0026 \\frac{\\sqrt{15}}{15}\\end{bmatrix} \\begin{bmatrix} 0 \u0026 \\frac{\\sqrt{3}}{3} \u0026 \\frac{\\sqrt{3}}{3} \u0026 -\\frac{\\sqrt{3}}{3} \\\\ \\frac{\\sqrt{3}}{3} \u0026 0 \u0026 \\frac{\\sqrt{3}}{3} \u0026 \\frac{\\sqrt{3}}{3} \\\\ \\frac{\\sqrt{15}}{15} \u0026 \\frac{\\sqrt{15}}{5} \u0026 -\\frac{2\\sqrt{15}}{15} \u0026 \\frac{\\sqrt{15}}{15} \\end{bmatrix} = $$\n",
                "\n",
                "Since $P$ is symmetric and we know that $C(P) = C(P^\\top)$, then it follows that $C(P)$ should be equal to $rank(Q)$. For $N$ we know that $N(P) = N(A^\\top)$, so it would follow that $C(P)$ is going to be equal to $rank(Q^\\top)$\n",
                "\n",
                "3. If we try to solve $Q \\mathbf x = \\mathbf c$:\n",
                "\n",
                "$$\n",
                "\\begin{cases} \n",
                "c_2\\frac{\\sqrt{3}}{3} + c_3\\frac{\\sqrt{15}}{15} = 0 \\\\ c_1\\frac{\\sqrt{3}}{3} + c_3\\frac{\\sqrt{15}}{5} = -1 \\\\ c_1\\frac{\\sqrt{3}}{3} + c_2\\frac{\\sqrt{3}}{3} + c_3\\frac{-2\\sqrt{15}}{15} = -1 \\\\ c_1\\frac{\\sqrt{3}}{3} + c_2\\frac{\\sqrt{3}}{3} + c_3\\frac{\\sqrt{15}}{15} = 1 \\end{cases}\n",
                "\\rightarrow \\\\ \\begin{cases}c_3 = -\\sqrt{5}c_2 \\\\ c_1 = \\frac{-\\sqrt{15} - 3c_3}{\\sqrt{5}} \\\\ \\sqrt{5}c_1 + \\sqrt{5}c_2 - 2c_3 = -\\sqrt{15} \\\\ \\sqrt{5}c_1 + \\sqrt{5}c_2 + c_3 = \\sqrt{15} \\end{cases}\n",
                "$$\n",
                "\n",
                "Subtracting the last 2 gives us: \n",
                "$$\n",
                "-3c_3 = -2\\sqrt{15} \\rightarrow c_3 = \\frac{2\\sqrt{15}}{3}\n",
                "$$\n",
                "\n",
                "Now we can substitute and find c_2 and c_1:\n",
                "$$\n",
                "c_2 = \\frac{-2\\sqrt{3}}{3} \\\\ \n",
                "c_1 = -3\\sqrt{3}\n",
                "$$\n",
                "\n",
                "However, give those values, if we substitute in: $c_1\\frac{\\sqrt{3}}{3} + c_2\\frac{\\sqrt{3}}{3} + c_3\\frac{-2\\sqrt{15}}{15} = -1$, we will not get a correct equality. That means that our found values are not the values that solve this system of linear equations.\n",
                "\n",
                ""
            ]
        },
        {
            "cell_type": "code",
            "execution_count": 6,
            "metadata": {},
            "outputs": [],
            "source": [
                "# ENTER ANY CODE HERE\n",
                ""
            ]
        },
        {
            "attachments": {},
            "cell_type": "markdown",
            "metadata": {},
            "source": [
                "\n",
                "# Problem 5 (20 points)\n",
                "\n",
                "We have the following matrix $A$ and vector $\\mathbf b$:\n",
                "\n",
                "$$A = \\begin{bmatrix} 1\u00260\u0026-1 \\\\ 0\u00262\u00263 \\\\ -1\u00260\u00264 \\\\0\u0026-2\u00261 \\end{bmatrix} \\qquad \n",
                "\\mathbf b = \\begin{bmatrix} -1 \\\\ 2 \\\\ -1 \\\\ 2 \\end{bmatrix}$$\n",
                "\n",
                "1. Write out the steps of the Gram-Schmidt process to orthogonalize $A$ and form the orthogonal matrix $Q$. You should check your results using Python.\n",
                "\n",
                "2. Verify that $R = Q^\\top A$. You should see a 0 entry in the \"upper triangular\" part of $R$. Explain what this tells us about the corresponding columns of $A$.\n",
                "\n",
                "3. Compute $Q^T \\mathbf b$ and solve the system $R \\mathbf{\\hat x} = Q^T \\mathbf b$. Show whether $\\mathbf{\\hat x}$ is an exact solution or a least squares approximation to the system $A \\mathbf x = \\mathbf b$.\n",
                "\n",
                "4. Use $Q$ to compute the projection matrix $P$ that projects onto $C(Q)$. Use $P$ to compute the projection of $\\mathbf b$ onto $C(Q)$. Verify that this is equal to $A \\mathbf{\\hat x}$."
            ]
        },
        {
            "attachments": {},
            "cell_type": "markdown",
            "metadata": {},
            "source": [
                "ENTER YOUR SOLUTIONS HERE \n",
                "\n",
                "1. Let's call the 3 columns of $A$ $\\rightarrow$ $\\mathbf a$, $\\mathbf b$, and $\\mathbf c$ respectively. Thus: $$ A = \\begin{bmatrix} \\mathbf a \u0026 \\mathbf b \u0026 \\mathbf c\\end{bmatrix} $$ Then we need to find our respectively orthonormal vectors $q_1$, $q_2$, and $q_3$. We will start with $\\mathbf q_1$: $$\\mathbf q_1 = \\frac{\\mathbf a}{|\\mathbf a|} = \\frac{1}{|\\mathbf a|}\\mathbf a = \\frac{1}{\\sqrt{(1)^2 + (0)^2 + (-1)^2 + (0)^2}}\\mathbf a = \\frac{1}{\\sqrt{2}}\\mathbf a = \\begin{bmatrix} \\frac{\\sqrt{2}}{2} \\\\ 0 \\\\ -\\frac{\\sqrt{2}}{2} \\\\ 0 \\end{bmatrix}$$\n",
                "\n",
                "Next we continue with $\\mathbf q_2$: $$\\mathbf b - (\\mathbf b \\cdot \\mathbf q_1) \\mathbf q_1 = \\begin{bmatrix} 0 \\\\ 2 \\\\ 0 \\\\ -2 \\end{bmatrix} - \\Bigg(\\begin{bmatrix} 0 \\\\ 2 \\\\ 0 \\\\ -2 \\end{bmatrix} \\cdot \\begin{bmatrix} \\frac{\\sqrt{2}}{2} \\\\ 0 \\\\ -\\frac{\\sqrt{2}}{2} \\\\ 0 \\end{bmatrix}\\Bigg)\\begin{bmatrix} \\frac{\\sqrt{2}}{2} \\\\ 0 \\\\ -\\frac{\\sqrt{2}}{2} \\\\ 0 \\end{bmatrix} = \\begin{bmatrix} 0 \\\\ 2 \\\\ 0 \\\\ -2 \\end{bmatrix} - (0)\\begin{bmatrix} \\frac{\\sqrt{2}}{2} \\\\ 0 \\\\ -\\frac{\\sqrt{2}}{2} \\\\ 0 \\end{bmatrix} = \\begin{bmatrix} 0 \\\\ 2 \\\\ 0 \\\\ -2 \\end{bmatrix}$$ \n",
                "\n",
                "Now, to obtain $\\mathbf q_2$ we need to divide the answer that we got for the above expression by it's modulus in order to get the normalization:\n",
                "$$\\mathbf q_2 = \\frac{\\mathbf b - (\\mathbf b \\cdot \\mathbf q_1) \\mathbf q_1}{|\\mathbf b - (\\mathbf b \\cdot \\mathbf q_1) \\mathbf q_1|} = \\frac{1}{\\sqrt{(0)^2 + (2)^2 + (0)^2 + (-2)^2}}\\begin{bmatrix} 0 \\\\ 2 \\\\ 0 \\\\ -2 \\end{bmatrix} = \\frac{1}{2\\sqrt{2}}\\begin{bmatrix} 0 \\\\ 2 \\\\ 0 \\\\ -2 \\end{bmatrix} = \\begin{bmatrix} 0 \\\\ \\frac{\\sqrt{2}}{2} \\\\ 0 \\\\ -\\frac{\\sqrt{2}}{2} \\end{bmatrix}$$\n",
                "\n",
                "Next, we continue with $\\mathbf q_3$:\n",
                "$$\\mathbf c - (\\mathbf c \\cdot \\mathbf q_1) \\mathbf q_1 - (\\mathbf c \\cdot \\mathbf q_2) \\mathbf q_2 = \\begin{bmatrix} -1 \\\\ 3 \\\\ 4 \\\\ 1 \\end{bmatrix} - \\Bigg(\\begin{bmatrix} -1 \\\\ 3 \\\\ 4 \\\\ 1 \\end{bmatrix} \\cdot \\begin{bmatrix} \\frac{\\sqrt{2}}{2} \\\\ 0 \\\\ -\\frac{\\sqrt{2}}{2} \\\\ 0 \\end{bmatrix}\\Bigg)\\begin{bmatrix} \\frac{\\sqrt{2}}{2} \\\\ 0 \\\\ -\\frac{\\sqrt{2}}{2} \\\\ 0 \\end{bmatrix} - \\Bigg(\\begin{bmatrix} -1 \\\\ 3 \\\\ 4 \\\\ 1 \\end{bmatrix} \\cdot \\begin{bmatrix} 0 \\\\ \\frac{\\sqrt{2}}{2} \\\\ 0 \\\\ -\\frac{\\sqrt{2}}{2} \\end{bmatrix}\\Bigg)\\begin{bmatrix} 0 \\\\ \\frac{\\sqrt{2}}{2} \\\\ 0 \\\\ -\\frac{\\sqrt{2}}{2} \\end{bmatrix} = \\\\ = \\begin{bmatrix} -1 \\\\ 3 \\\\ 4 \\\\ 1 \\end{bmatrix} - (-\\frac{5\\sqrt{2}}{2})\\begin{bmatrix} \\frac{\\sqrt{2}}{2} \\\\ 0 \\\\ -\\frac{\\sqrt{2}}{2} \\\\ 0 \\end{bmatrix} - (\\sqrt{2})\\begin{bmatrix} 0 \\\\ \\frac{\\sqrt{2}}{2} \\\\ 0 \\\\ -\\frac{\\sqrt{2}}{2} \\end{bmatrix} = \\begin{bmatrix} -1 \\\\ 3 \\\\ 4 \\\\ 1 \\end{bmatrix} + \\begin{bmatrix} \\frac{5}{2} \\\\ 0 \\\\ -\\frac{5}{2} \\\\ 0 \\end{bmatrix} - \\begin{bmatrix} 0 \\\\ 1 \\\\ 0 \\\\ -1 \\end{bmatrix} = \\begin{bmatrix} \\frac{3}{2} \\\\ 2 \\\\ \\frac{3}{2} \\\\ 2 \\end{bmatrix}$$\n",
                "\n",
                "Now, to obtain $\\mathbf q_3$ we need to divide the answer that we got for the above expression by it's modulus in order to get the normalization:\n",
                "$$\\mathbf q_3 = \\frac{\\mathbf c - (\\mathbf c \\cdot \\mathbf q_1) \\mathbf q_1 - (\\mathbf c \\cdot \\mathbf q_2) \\mathbf q_2}{|\\mathbf c - (\\mathbf c \\cdot \\mathbf q_1) \\mathbf q_1 - (\\mathbf c \\cdot \\mathbf q_2) \\mathbf q_2|} = \\frac{1}{\\sqrt{(\\frac{3}{2})^2 + (2)^2 + (\\frac{3}{2})^2 + (2)^2}}\\begin{bmatrix} \\frac{3}{2} \\\\ 2 \\\\ \\frac{3}{2} \\\\ 2 \\end{bmatrix} = \\frac{1}{\\sqrt{\\frac{25}{2}}}\\begin{bmatrix} \\frac{3}{2} \\\\ 2 \\\\ \\frac{3}{2} \\\\ 2 \\end{bmatrix} = \\frac{\\sqrt{2}}{5}\\begin{bmatrix} \\frac{3}{2} \\\\ 2 \\\\ \\frac{3}{2} \\\\ 2 \\end{bmatrix} = \\begin{bmatrix} \\frac{3\\sqrt{2}}{10} \\\\ \\frac{2\\sqrt{2}}{5} \\\\ \\frac{3\\sqrt{2}}{10} \\\\ \\frac{2\\sqrt{2}}{5} \\end{bmatrix}$$\n",
                "\n",
                "2. \n",
                "\n",
                "3. \n",
                "\n",
                "4. "
            ]
        },
        {
            "cell_type": "code",
            "execution_count": 3,
            "metadata": {},
            "outputs": [],
            "source": [
                "# ENTER ANY CODE HERE\n",
                ""
            ]
        }
    ]
}
